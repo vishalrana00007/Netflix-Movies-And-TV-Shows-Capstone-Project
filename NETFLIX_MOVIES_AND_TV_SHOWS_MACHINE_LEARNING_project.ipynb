{
  "nbformat": 4,
  "nbformat_minor": 0,
  "metadata": {
    "colab": {
      "provenance": [],
      "authorship_tag": "ABX9TyO8hKA0XGa35oQuwgC4ePPm",
      "include_colab_link": true
    },
    "kernelspec": {
      "name": "python3",
      "display_name": "Python 3"
    },
    "language_info": {
      "name": "python"
    }
  },
  "cells": [
    {
      "cell_type": "markdown",
      "metadata": {
        "id": "view-in-github",
        "colab_type": "text"
      },
      "source": [
        "<a href=\"https://colab.research.google.com/github/vishalrana00007/Netflix-Movies-And-TV-Shows-Machine-Learning-Capstone-Project/blob/main/NETFLIX_MOVIES_AND_TV_SHOWS_MACHINE_LEARNING_project.ipynb\" target=\"_parent\"><img src=\"https://colab.research.google.com/assets/colab-badge.svg\" alt=\"Open In Colab\"/></a>"
      ]
    },
    {
      "cell_type": "markdown",
      "source": [
        "# **Project Name - NETFLIX MOVIES AND TV SHOWS CLUSTERING**"
      ],
      "metadata": {
        "id": "EctbhLrslPA7"
      }
    },
    {
      "cell_type": "markdown",
      "source": [
        "Project Type - Unsupervised Learning and Recommendation System.\n",
        "\n",
        "Contribution - Individual"
      ],
      "metadata": {
        "id": "-z9_OuY9ncYi"
      }
    },
    {
      "cell_type": "markdown",
      "source": [
        "# **GitHub Link -**"
      ],
      "metadata": {
        "id": "VSNqR7ZmvV0K"
      }
    }
  ]
}